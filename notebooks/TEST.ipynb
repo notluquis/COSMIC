{
 "cells": [
  {
   "cell_type": "code",
   "execution_count": null,
   "id": "a6daf844",
   "metadata": {},
   "outputs": [],
   "source": [
    "import os\n",
    "import sys\n",
    "from pathlib import Path\n",
    "\n",
    "# Resolve defaults: project root is two levels up from notebooks/ by default\n",
    "PROJECT_ROOT = Path(os.environ.get('COSMIC_PROJECT_ROOT', Path(__file__).resolve().parents[1]))\n",
    "DATA_ROOT = Path(os.environ.get('COSMIC_DATA_ROOT', PROJECT_ROOT / 'data'))\n",
    "\n",
    "# Add project root to sys.path for imports (if not already present)\n",
    "if str(PROJECT_ROOT) not in sys.path:\n",
    "    sys.path.insert(0, str(PROJECT_ROOT))\n",
    "\n",
    "print(f\"PROJECT_ROOT={PROJECT_ROOT}\")\n",
    "print(f\"DATA_ROOT={DATA_ROOT}\")"
   ]
  },
  {
   "cell_type": "markdown",
   "id": "4bcf2276",
   "metadata": {},
   "source": [
    "# Notebook portability helper\n",
    "\n",
    "This notebook previously contained absolute local paths. Before running, set the project/data locations below if needed.\n",
    "- You can set environment variables `COSMIC_PROJECT_ROOT` and `COSMIC_DATA_ROOT` to override defaults.\n",
    "- By default, `PROJECT_ROOT` is assumed to be the repository parent of this `notebooks/` folder and `DATA_ROOT` defaults to `PROJECT_ROOT/data`."
   ]
  },
  {
   "cell_type": "code",
   "execution_count": null,
   "id": "d1657712",
   "metadata": {},
   "outputs": [],
   "source": [
    "# 1) Imports\n",
    "import sys\n",
    "sys.path.append('/Users/notluquis/Library/Mobile Documents/com~apple~CloudDocs/Investigación/COSMIC/')"
   ]
  },
  {
   "cell_type": "code",
   "execution_count": null,
   "id": "7b23857a",
   "metadata": {},
   "outputs": [],
   "source": [
    "# --- Celda 1: imports y helpers de IO ---\n",
    "import numpy as np\n",
    "from COSMIC import ClusterAnalyzer\n",
    "import pytensor.tensor as pt"
   ]
  }
 ],
 "metadata": {
  "language_info": {
   "name": "python"
  }
 },
 "nbformat": 4,
 "nbformat_minor": 5
}
