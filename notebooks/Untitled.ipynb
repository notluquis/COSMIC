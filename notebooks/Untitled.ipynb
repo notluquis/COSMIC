{
 "cells": [
  {
   "cell_type": "code",
   "execution_count": null,
   "id": "44f87830",
   "metadata": {},
   "outputs": [],
   "source": [
    "import os\n",
    "import sys\n",
    "from pathlib import Path\n",
    "\n",
    "PROJECT_ROOT = Path(os.environ.get('COSMIC_PROJECT_ROOT', Path(__file__).resolve().parents[1]))\n",
    "DATA_ROOT = Path(os.environ.get('COSMIC_DATA_ROOT', PROJECT_ROOT / 'data'))\n",
    "\n",
    "if str(PROJECT_ROOT) not in sys.path:\n",
    "    sys.path.insert(0, str(PROJECT_ROOT))\n",
    "\n",
    "print(f\"PROJECT_ROOT={PROJECT_ROOT}\")\n",
    "print(f\"DATA_ROOT={DATA_ROOT}\")"
   ]
  },
  {
   "cell_type": "markdown",
   "id": "7d05675f",
   "metadata": {},
   "source": [
    "# Notebook portability helper\n",
    "\n",
    "This notebook previously contained absolute local paths. Before running, set the project/data locations below if needed.\n",
    "- You can set environment variables `COSMIC_PROJECT_ROOT` and `COSMIC_DATA_ROOT` to override defaults.\n",
    "- By default, `PROJECT_ROOT` is assumed to be the repository parent of this `notebooks/` folder and `DATA_ROOT` defaults to `PROJECT_ROOT/data`."
   ]
  },
  {
   "cell_type": "code",
   "execution_count": null,
   "id": "088cb9b7",
   "metadata": {},
   "outputs": [],
   "source": [
    "# 1) Imports\n",
    "import sys\n",
    "sys.path.append('/Users/notluquis/Library/Mobile Documents/com~apple~CloudDocs/Investigación/COSMIC/')"
   ]
  },
  {
   "cell_type": "code",
   "execution_count": null,
   "id": "9c8ef21e",
   "metadata": {},
   "outputs": [],
   "source": [
    "# --- Celda 1: imports y helpers de IO ---\n",
    "import os\n",
    "import pickle\n",
    "import numpy as np\n",
    "from COSMIC import ClusterAnalyzer\n",
    "from tqdm.notebook import tqdm\n",
    "import pytensor.tensor as pt\n",
    "from types import MethodType\n",
    "\n",
    "# helpers\n",
    "def save_npz(path, **arrays):\n",
    "    os.makedirs(os.path.dirname(path), exist_ok=True)\n",
    "    np.savez_compressed(path, **arrays)\n",
    "\n",
    "def save_pkl(path, obj):\n",
    "    os.makedirs(os.path.dirname(path), exist_ok=True)\n",
    "    with open(path, \n",
    ") as f:\n",
    "        pickle.dump(obj, f, protocol=pickle.HIGHEST_PROTOCOL)\n",
    "\n",
    "def load_pkl(path):\n",
    "    with open(path, \n",
    ") as f:\n",
    "        return pickle.load(f)\n",
    "\n",
    "# chequeos rápidos de reproducibilidad\n",
    "def fingerprint(arr, k=5):\n",
    "    \"\"\"Hash simple: primeros k valores y shape/dtype.\"\"\"\n",
    "    arr = np.asarray(arr).ravel()\n",
    "    head = arr[:k]\n",
    "    return dict(shape=arr.shape, dtype=str(arr.dtype),\n",
    "                head=np.array(head, copy=False))"
   ]
  }
 ],
 "metadata": {
  "language_info": {
   "name": "python"
  }
 },
 "nbformat": 4,
 "nbformat_minor": 5
}
